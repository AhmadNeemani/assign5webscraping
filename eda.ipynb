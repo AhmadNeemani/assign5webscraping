{
 "cells": [
  {
   "cell_type": "code",
   "execution_count": null,
   "metadata": {},
   "outputs": [],
   "source": [
    "import pandas as pd\n",
    "import seaborn as sns\n",
    "import numpy as np\n",
    "import matplotlib.pyplot as plt\n",
    "import re\n",
    "\n",
    "%matplotlib inline\n",
    "\n",
    "csv_file = 'cleaned_ebay_deals.csv'\n",
    "df = pd.read_csv(csv_file)"
   ]
  },
  {
   "cell_type": "code",
   "execution_count": null,
   "metadata": {},
   "outputs": [],
   "source": [
    "def prepare_timestamp_and_hour(dataframe):\n",
    "    dataframe['timestamp'] = pd.to_datetime(dataframe['timestamp'], format='%Y-%m-%d %H:%M:%S')\n",
    "    dataframe.sort_values(by='timestamp', inplace=True)\n",
    "    dataframe['hour'] = dataframe['timestamp'].dt.hour\n",
    "    return dataframe\n",
    "\n",
    "def get_deals_per_hour(dataframe):\n",
    "    return dataframe.groupby('hour').size()\n",
    "\n",
    "def plot_deals_bar_chart(deals_per_hour_series):\n",
    "    plt.figure(figsize=(10, 6))\n",
    "    deals_per_hour_series.plot(kind='bar', color='blue', edgecolor='black')\n",
    "    plt.title('Number of Deals per Hour')\n",
    "    plt.xlabel('Hour of Day')\n",
    "    plt.ylabel('Number of Deals')\n",
    "    plt.xticks(rotation=0)\n",
    "    plt.tight_layout()\n",
    "    plt.show()\n",
    "\n",
    "df = prepare_timestamp_and_hour(df)\n",
    "deals_per_hour = get_deals_per_hour(df)\n",
    "plot_deals_bar_chart(deals_per_hour)"
   ]
  },
  {
   "cell_type": "code",
   "execution_count": null,
   "metadata": {},
   "outputs": [],
   "source": [
    "plt.figure(figsize=(12, 6))\n",
    "sns.histplot(df['price'], bins=30, color='orange', edgecolor='black')\n",
    "plt.title('Distribution of Product Prices - Histogram')\n",
    "plt.xlabel('Price (USD)')\n",
    "plt.ylabel('Frequency')\n",
    "plt.show()\n",
    "\n",
    "plt.figure(figsize=(8, 6))\n",
    "sns.boxplot(x=df['price'], color='mediumpurple')\n",
    "plt.title('Distribution of Product Prices - Boxplot')\n",
    "plt.xlabel('Price (USD)')\n",
    "plt.show()\n",
    "\n",
    "plt.figure(figsize=(8, 6))\n",
    "sns.scatterplot(x='original_price', y='price', data=df, alpha=0.7, color='darkcyan')\n",
    "plt.title('Scatter Plot: Original Price vs Price')\n",
    "plt.xlabel('Original Price (USD)')\n",
    "plt.ylabel('Price (USD)')\n",
    "plt.grid(True)\n",
    "plt.show()\n",
    "\n",
    "plt.figure(figsize=(12, 6))\n",
    "sns.histplot(df['discount_percentage'], bins=30, kde=True, color='goldenrod', edgecolor='black')\n",
    "plt.title('Distribution of Discount Percentage')\n",
    "plt.xlabel('Discount Percentage (%)')\n",
    "plt.ylabel('Count')\n",
    "plt.show()"
   ]
  },
  {
   "cell_type": "code",
   "execution_count": null,
   "metadata": {},
   "outputs": [],
   "source": [
    "shipping_counts = df['shipping'].value_counts()\n",
    "print(shipping_counts)\n",
    "\n",
    "plt.figure(figsize=(10, 6))\n",
    "ax = sns.barplot(\n",
    "    x=shipping_counts.index,\n",
    "    y=shipping_counts.values,\n",
    "    palette=['#FF7F50', '#6495ED', '#FFD700', '#90EE90', '#DA70D6'] \n",
    ")\n",
    "\n",
    "plt.title('Frequency of Shipping Options')\n",
    "plt.xlabel('Shipping Options')\n",
    "plt.ylabel('Count')\n",
    "plt.xticks(rotation=45)\n",
    "plt.tight_layout()\n",
    "plt.show()"
   ]
  },
  {
   "cell_type": "code",
   "execution_count": null,
   "metadata": {},
   "outputs": [],
   "source": [
    "keywords = [\"Apple\", \"Samsung\", \"Laptop\", \"iPhone\", \"Tablet\", \"Gimbal\"]\n",
    "keyword_counts = {}\n",
    "\n",
    "for keyword in keywords:\n",
    "    count = df['title'].str.count(keyword, flags=re.IGNORECASE).sum()\n",
    "    keyword_counts[keyword] = count\n",
    "\n",
    "keyword_counts_series = pd.Series(keyword_counts)\n",
    "\n",
    "plt.figure(figsize=(10, 6))\n",
    "ax = sns.barplot(\n",
    "    x=keyword_counts_series.index,\n",
    "    y=keyword_counts_series.values,\n",
    "    palette=['#FF6347', '#4682B4', '#32CD32', '#FFD700', '#9370DB', '#20B2AA'] \n",
    ")\n",
    "\n",
    "plt.title('Keyword Frequency in Product Titles')\n",
    "plt.xlabel('Keyword')\n",
    "plt.ylabel('Frequency')\n",
    "plt.tight_layout()\n",
    "plt.show()"
   ]
  },
  {
   "cell_type": "code",
   "execution_count": null,
   "metadata": {},
   "outputs": [],
   "source": [
    "df['discount_abs'] = df['original_price'] - df['price']\n",
    "\n",
    "plt.figure(figsize=(10, 6))\n",
    "sns.histplot(\n",
    "    df['discount_abs'],\n",
    "    bins=30,\n",
    "    kde=True,\n",
    "    color='mediumslateblue',\n",
    "    edgecolor='black'\n",
    ")\n",
    "plt.title('Histogram of Absolute Price Discount')\n",
    "plt.xlabel('Absolute Discount (USD)')\n",
    "plt.ylabel('Frequency')\n",
    "plt.tight_layout()\n",
    "plt.show()"
   ]
  },
  {
   "cell_type": "code",
   "execution_count": null,
   "metadata": {},
   "outputs": [],
   "source": [
    "def get_top_discounted_deals(dataframe, top_n=5):\n",
    "    top_deals = (\n",
    "        dataframe.sort_values(by=\"discount_percentage\", ascending=False)\n",
    "                 .drop_duplicates(subset=[\"title\"])\n",
    "                 .head(top_n)\n",
    "    )\n",
    "    return top_deals\n",
    "\n",
    "top5_deals = get_top_discounted_deals(df, top_n=5)\n",
    "display(top5_deals)\n"
   ]
  }
 ],
 "metadata": {
  "kernelspec": {
   "display_name": "Python 3",
   "language": "python",
   "name": "python3"
  },
  "language_info": {
   "codemirror_mode": {
    "name": "ipython",
    "version": 3
   },
   "file_extension": ".py",
   "mimetype": "text/x-python",
   "name": "python",
   "nbconvert_exporter": "python",
   "pygments_lexer": "ipython3",
   "version": "3.12.1"
  }
 },
 "nbformat": 4,
 "nbformat_minor": 2
}
